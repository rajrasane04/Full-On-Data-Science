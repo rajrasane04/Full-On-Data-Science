{
 "cells": [
  {
   "cell_type": "markdown",
   "metadata": {},
   "source": [
    "# Jupyter Notebook Basics\n",
    "\n",
    "### What is Jupyter Notebook?\n",
    "An interactive tool to write code and notes. Great for data science, machine learning, and quick tests."
   ]
  },
  {
   "cell_type": "markdown",
   "metadata": {},
   "source": [
    "## Structure of Jupyter\n",
    "\n",
    "- **Cells**: Blocks where you write code or notes.\n",
    "  - **Code Cells**: For running Python code.\n",
    "  - **Markdown Cells**: For writing notes and headings."
   ]
  },
  {
   "cell_type": "markdown",
   "metadata": {},
   "source": [
    "## Working with Cells\n",
    "\n",
    "- **Run a Cell**: `Shift + Enter`\n",
    "- **Add New Cell**: `+` in the toolbar.\n",
    "- **Switch Cell Type**:\n",
    "  - `Y` = Code\n",
    "  - `M` = Markdown"
   ]
  },
  {
   "cell_type": "markdown",
   "metadata": {},
   "source": [
    "## Markdown Basics (for Notes)\n",
    "\n",
    "- **Headers**: `#` for large headers, `##` for smaller.\n",
    "- **Bold/Italic**:\n",
    "  - `**Bold**` → **Bold**\n",
    "  - `*Italic*` → *Italic*\n",
    "- **Lists**: \n",
    "  - `- Item 1` (bulleted)\n",
    "  - `1. Item 1` (numbered)\n",
    "- **Code**: `\\`code\\`` for inline or `\\``\\`code block\\``\\` for larger blocks."
   ]
  },
  {
   "cell_type": "markdown",
   "metadata": {},
   "source": [
    "## Running Code\n",
    "\n",
    "- Write code in **Code Cells** and run it with `Shift + Enter`.\n",
    "- **Kernel**: The engine that runs your code. If it stops, restart with `Kernel > Restart Kernel`."
   ]
  },
  {
   "cell_type": "markdown",
   "metadata": {},
   "source": [
    "## Installing Libraries\n",
    "\n",
    "- Use `!pip install library_name` to install libraries in a cell."
   ]
  },
  {
   "cell_type": "code",
   "execution_count": null,
   "metadata": {},
   "outputs": [],
   "source": [
    "#for e.g\n",
    "\n",
    "%pip install numpy pandas matplotlib"
   ]
  },
  {
   "cell_type": "markdown",
   "metadata": {},
   "source": [
    "## Basic Libraries and Examples"
   ]
  },
  {
   "cell_type": "code",
   "execution_count": null,
   "metadata": {},
   "outputs": [],
   "source": [
    "# NumPy: Numerical operations\n",
    "import numpy as np\n",
    "np.array([1, 2, 3])"
   ]
  },
  {
   "cell_type": "code",
   "execution_count": null,
   "metadata": {},
   "outputs": [],
   "source": [
    "# Pandas: Data handling\n",
    "import pandas as pd\n",
    "pd.DataFrame({'A': [1, 2], 'B': [3, 4]})"
   ]
  },
  {
   "cell_type": "code",
   "execution_count": null,
   "metadata": {},
   "outputs": [],
   "source": [
    "# Matplotlib: Plotting\n",
    "import matplotlib.pyplot as plt\n",
    "plt.plot([1, 2], [3, 4])\n",
    "plt.show()"
   ]
  },
  {
   "cell_type": "markdown",
   "metadata": {},
   "source": [
    "## Saving and Sharing\n",
    "\n",
    "- **Save**: Click disk icon or `Ctrl + S`.\n",
    "- **Export**: File > Download as to save as `.html` or `.pdf`.\n",
    "- **GitHub**: Jupyter files (`.ipynb`) can be viewed and shared on GitHub."
   ]
  },
  {
   "cell_type": "markdown",
   "metadata": {},
   "source": [
    "## Useful Shortcuts\n",
    "\n",
    "- **Run Cell**: `Shift + Enter`\n",
    "- **Add Cell**: `B` (below), `A` (above)\n",
    "- **Delete Cell**: `D, D` (double `D`)\n",
    "- **Toggle Cell Type**:\n",
    "  - Code: `Y`\n",
    "  - Markdown: `M`"
   ]
  },
  {
   "cell_type": "markdown",
   "metadata": {},
   "source": [
    "## Managing the Kernel\n",
    "\n",
    "- **Restart**: `Kernel > Restart Kernel` if things aren’t working.\n",
    "- **Interrupt**: `Kernel > Interrupt` to stop a long-running cell."
   ]
  }
 ],
 "metadata": {
  "kernelspec": {
   "display_name": "Python 3",
   "language": "python",
   "name": "python3"
  },
  "language_info": {
   "codemirror_mode": {
    "name": "ipython",
    "version": 3
   },
   "file_extension": ".py",
   "mimetype": "text/x-python",
   "name": "python",
   "nbconvert_exporter": "python",
   "pygments_lexer": "ipython3",
   "version": "3.12.1"
  }
 },
 "nbformat": 4,
 "nbformat_minor": 2
}
